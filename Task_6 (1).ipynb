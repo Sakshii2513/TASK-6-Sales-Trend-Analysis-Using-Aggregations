{
  "nbformat": 4,
  "nbformat_minor": 0,
  "metadata": {
    "colab": {
      "private_outputs": true,
      "provenance": []
    },
    "kernelspec": {
      "name": "python3",
      "display_name": "Python 3"
    },
    "language_info": {
      "name": "python"
    }
  },
  "cells": [
    {
      "cell_type": "code",
      "execution_count": null,
      "metadata": {
        "id": "OKthFJju5jta"
      },
      "outputs": [],
      "source": [
        "import pandas as pd\n",
        "import sqlite3"
      ]
    },
    {
      "cell_type": "code",
      "source": [
        "df = pd.read_csv('online_sales_dataset.csv')\n"
      ],
      "metadata": {
        "id": "YCogz--d78mX"
      },
      "execution_count": null,
      "outputs": []
    },
    {
      "cell_type": "code",
      "source": [
        "print(df.columns)\n",
        "df.head()"
      ],
      "metadata": {
        "id": "dQ71ePOE8Y6K"
      },
      "execution_count": null,
      "outputs": []
    },
    {
      "cell_type": "code",
      "source": [
        "df = pd.read_csv('online_sales_dataset.csv', parse_dates=['InvoiceDate'])\n"
      ],
      "metadata": {
        "id": "jFTKAUnz8bNe"
      },
      "execution_count": null,
      "outputs": []
    },
    {
      "cell_type": "code",
      "source": [
        "conn = sqlite3.connect(':memory:')\n",
        "df.to_sql('online_sales', conn, index=False, if_exists='replace')\n"
      ],
      "metadata": {
        "id": "Cbw1c0qt8nhz"
      },
      "execution_count": null,
      "outputs": []
    },
    {
      "cell_type": "code",
      "source": [
        "query = '''\n",
        "SELECT\n",
        "    STRFTIME('%Y', InvoiceDate) AS year,                     -- a. extract year\n",
        "    STRFTIME('%m', InvoiceDate) AS month,                    -- a. extract month\n",
        "    SUM(UnitPrice * Quantity) AS total_revenue,             -- c. calculate revenue\n",
        "    COUNT(DISTINCT InvoiceNo) AS order_volume               -- d. count unique orders\n",
        "FROM\n",
        "    online_sales\n",
        "WHERE\n",
        "    InvoiceDate BETWEEN '2023-01-01' AND '2023-12-31'        -- f. time filtering\n",
        "GROUP BY\n",
        "    year, month                                              -- b. group by month\n",
        "ORDER BY\n",
        "    year ASC, month ASC                                      -- e. order chronologically\n",
        "'''"
      ],
      "metadata": {
        "id": "oNJOkp4R809z"
      },
      "execution_count": null,
      "outputs": []
    },
    {
      "cell_type": "code",
      "source": [
        "result = pd.read_sql_query(query, conn)\n",
        "result"
      ],
      "metadata": {
        "id": "2YLMghGs84k0"
      },
      "execution_count": null,
      "outputs": []
    }
  ]
}